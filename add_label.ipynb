{
 "cells": [
  {
   "cell_type": "code",
   "execution_count": 1,
   "metadata": {
    "collapsed": true
   },
   "outputs": [],
   "source": [
    "#ラベル付け\n",
    "import json\n",
    "import csv\n",
    "import pandas as pd\n",
    "import MeCab\n",
    "import time"
   ]
  },
  {
   "cell_type": "code",
   "execution_count": 2,
   "metadata": {
    "collapsed": true
   },
   "outputs": [],
   "source": [
    "def readpdCSV(path, name, file_type):\n",
    "    df = pd.read_csv(path+name+file_type, dtype={\"body\":\"str\"},encoding=\"utf-8\")\n",
    "\n",
    "    return df"
   ]
  },
  {
   "cell_type": "code",
   "execution_count": 3,
   "metadata": {
    "collapsed": true
   },
   "outputs": [],
   "source": [
    "def readJSON(path):\n",
    "    data = json.load(open(path, 'r'))\n",
    "\n",
    "    return data"
   ]
  },
  {
   "cell_type": "code",
   "execution_count": 5,
   "metadata": {
    "collapsed": true
   },
   "outputs": [],
   "source": [
    "def pickArticle(i, b, json_data):\n",
    "    sep_body = []\n",
    "    # print(len(h))\n",
    "    # for i in range(len(h)):\n",
    "    # 一文ごとに分割してからの特徴づけの場合\n",
    "#     split_body = str(b).split(\"。\")\n",
    "#     del split_body[-1]\n",
    "#     split_body = article_to_sentence(b)\n",
    "\n",
    "#     sep_body.append(countNoun(h, json_data))\n",
    "    for body, j in zip(b, range(len(b))):\n",
    "        sep_body.append([i, j, body, countNoun(body, json_data)])\n",
    "\n",
    "#     for sep in sep_body:\n",
    "#         sep[3] = getWeight(sep[3], head, json_data)\n",
    "    \n",
    "    return sep_body"
   ]
  },
  {
   "cell_type": "code",
   "execution_count": 6,
   "metadata": {
    "collapsed": true
   },
   "outputs": [],
   "source": [
    "def countNoun(body, json_data):\n",
    "    cat_set = \"\"\n",
    "    body_sep = sepNoun(body)\n",
    "    cat_data = {\"keiki\": \"0\", \"bukka\": \"0\", \"kinri\": \"0\", \"money\": \"0\", \"boueki\": \"0\", \"koyou\": \"0\", \"kojin\": \"0\", \"kainyu\": \"0\", \"oil\": \"0\", \"kabu\": \"0\", \"saiken\": \"0\", \"youjin\":\"0\", \"seiji\":\"0\"}\n",
    "    \n",
    "    for key in json_data.keys():\n",
    "        if len(list(set(body_sep) & set(json_data[key]))) > 0:\n",
    "            cat_data[key] = \"1\"\n",
    "    \n",
    "    for key in json_data.keys():\n",
    "        cat_set += cat_data[key]\n",
    "\n",
    "    return cat_set"
   ]
  },
  {
   "cell_type": "code",
   "execution_count": 7,
   "metadata": {
    "collapsed": true
   },
   "outputs": [],
   "source": [
    "def sepNoun(data):\n",
    "    mt = MeCab.Tagger('mecabrc')\n",
    "    mt.parse(\"\")\n",
    "    # print(data)\n",
    "    node = mt.parseToNode(data)\n",
    "    # print(node.surface)\n",
    "    return getNouns(node)"
   ]
  },
  {
   "cell_type": "code",
   "execution_count": 8,
   "metadata": {
    "collapsed": true
   },
   "outputs": [],
   "source": [
    "def getNouns(node):\n",
    "    words = []\n",
    "    word_stack = \"\"\n",
    "    while node:\n",
    "        noun = node.feature.split(\",\")\n",
    "        word = node.surface\n",
    "        if(checkNoun(noun)):\n",
    "            word_stack += word\n",
    "        if(word_stack != \"\" and noun[0] != '名詞'):\n",
    "            if(checkNum(word_stack)):\n",
    "                words.append(word_stack)\n",
    "            word_stack = \"\"\n",
    "        node = node.next\n",
    "    # words = \" \".join(words)\n",
    "    return words"
   ]
  },
  {
   "cell_type": "code",
   "execution_count": 9,
   "metadata": {
    "collapsed": true
   },
   "outputs": [],
   "source": [
    "def checkNoun(noun):\n",
    "    zyogai = [\"副詞可能\", \"非自立\", \"代名詞\", \"助詞類接続\"]\n",
    "    if(noun[0] == '名詞'):\n",
    "        if(noun[1] in zyogai):\n",
    "            return False\n",
    "        else:\n",
    "            return True\n",
    "        \n",
    "def checkNum(word_stack):\n",
    "    mt = MeCab.Tagger()\n",
    "    mt.parse(\"\")\n",
    "\n",
    "    node = mt.parseToNode(word_stack)\n",
    "    while node:\n",
    "        noun = node.feature.split(\",\")\n",
    "        if(noun[1] == '数'):\n",
    "            return False\n",
    "        node = node.next\n",
    "\n",
    "    return True"
   ]
  },
  {
   "cell_type": "code",
   "execution_count": 19,
   "metadata": {
    "collapsed": true
   },
   "outputs": [],
   "source": [
    "file_pass = \"./reuters_csv/reuters_topNews_\"\n",
    "file_names = [\"2008_2\", \"2009_2\"]\n",
    "file_type = \".csv\"\n",
    "sepfile_names = [\"keiki\", \"bukka\", \"kinri\", \"money\", \"boueki\", \"koyou\", \"kojin\", \"kainyu\", \"oil\", \"kabu\", \"saiken\", \"sonota\"]\n",
    "sep_data = []\n",
    "picked_data = []\n",
    "# csvの読み込み\n",
    "df1 = readpdCSV(file_pass, file_names[0], file_type)\n",
    "df2 = readpdCSV(file_pass, file_names[1], file_type)\n",
    "df = pd.concat([df1, df2], ignore_index=True)\n",
    "json_data = readJSON(\"./json/word_dict.json\")"
   ]
  },
  {
   "cell_type": "code",
   "execution_count": 25,
   "metadata": {
    "collapsed": true
   },
   "outputs": [],
   "source": [
    "for i, b in zip(df.index,df[\"body\"]):\n",
    "#     sep_body = b.split(\"。\")\n",
    "#     if(sep_body[-1] == \"\"):\n",
    "#         del sep_body[-1]\n",
    "#     for sep in sep_body:\n",
    "#         if(picked_data == []):\n",
    "#             picked_data.append([\"parentid\", \"childid\", \"body\", \"label\"])\n",
    "        picked_data.append(pickArticle(i, b, json_data))\n",
    "\n",
    "df[\"label\"] = picked_data"
   ]
  },
  {
   "cell_type": "code",
   "execution_count": 26,
   "metadata": {
    "collapsed": true
   },
   "outputs": [],
   "source": [
    "label_data = [[\"parentid\", \"childid\", \"body\", \"label\"]]\n",
    "# print(picked_data[1])\n",
    "for data in picked_data:\n",
    "    for row in data:\n",
    "#         print(row)\n",
    "#         time.sleep(1.0)\n",
    "        label_data.append(row)\n",
    "\n",
    "# print(label_data[2][2])\n",
    "# for(data in picked_data):\n",
    "#     print(data[3])"
   ]
  },
  {
   "cell_type": "code",
   "execution_count": 27,
   "metadata": {
    "collapsed": true
   },
   "outputs": [],
   "source": [
    "with open(\"./reuters_article00.csv\", \"w\") as f:\n",
    "    writer = csv.writer(f, lineterminator='\\n')\n",
    "    writer.writerows(label_data)"
   ]
  },
  {
   "cell_type": "code",
   "execution_count": null,
   "metadata": {
    "collapsed": true
   },
   "outputs": [],
   "source": []
  }
 ],
 "metadata": {
  "kernelspec": {
   "display_name": "Python 3",
   "language": "python",
   "name": "python3"
  },
  "language_info": {
   "codemirror_mode": {
    "name": "ipython",
    "version": 3
   },
   "file_extension": ".py",
   "mimetype": "text/x-python",
   "name": "python",
   "nbconvert_exporter": "python",
   "pygments_lexer": "ipython3",
   "version": "3.5.4"
  }
 },
 "nbformat": 4,
 "nbformat_minor": 1
}
